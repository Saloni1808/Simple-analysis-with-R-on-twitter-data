{
 "cells": [
  {
   "cell_type": "code",
   "execution_count": 40,
   "metadata": {},
   "outputs": [],
   "source": [
    "setwd('/Users/Saloni/Downloads')"
   ]
  },
  {
   "cell_type": "code",
   "execution_count": 41,
   "metadata": {},
   "outputs": [],
   "source": [
    "#reading the file\n",
    "df = read.csv('ewom.csv',stringsAsFactors=F)"
   ]
  },
  {
   "cell_type": "code",
   "execution_count": 42,
   "metadata": {
    "scrolled": true
   },
   "outputs": [
    {
     "data": {
      "text/html": [
       "<ol class=list-inline>\n",
       "\t<li>'id'</li>\n",
       "\t<li>'in_reply_to_status_id'</li>\n",
       "\t<li>'extended_tweet_full_text'</li>\n",
       "</ol>\n"
      ],
      "text/latex": [
       "\\begin{enumerate*}\n",
       "\\item 'id'\n",
       "\\item 'in\\_reply\\_to\\_status\\_id'\n",
       "\\item 'extended\\_tweet\\_full\\_text'\n",
       "\\end{enumerate*}\n"
      ],
      "text/markdown": [
       "1. 'id'\n",
       "2. 'in_reply_to_status_id'\n",
       "3. 'extended_tweet_full_text'\n",
       "\n",
       "\n"
      ],
      "text/plain": [
       "[1] \"id\"                       \"in_reply_to_status_id\"   \n",
       "[3] \"extended_tweet_full_text\""
      ]
     },
     "metadata": {},
     "output_type": "display_data"
    }
   ],
   "source": [
    "names(df)"
   ]
  },
  {
   "cell_type": "code",
   "execution_count": 43,
   "metadata": {},
   "outputs": [],
   "source": [
    "#converting the data type 'in_reply_to_status_id' of  to character\n",
    "df$in_reply_to_status_id = as.character(df$in_reply_to_status_id)\n",
    "df$id = as.character(df$id)"
   ]
  },
  {
   "cell_type": "code",
   "execution_count": 44,
   "metadata": {},
   "outputs": [],
   "source": [
    "#getting the count of 'in_reply_to_status_id'\n",
    "df_count = data.frame(table(df$in_reply_to_status_id))"
   ]
  },
  {
   "cell_type": "code",
   "execution_count": 45,
   "metadata": {},
   "outputs": [],
   "source": [
    "#creating the column 'reply_Freq'\n",
    "names(df_count) = c('id','reply_Freq')"
   ]
  },
  {
   "cell_type": "code",
   "execution_count": 46,
   "metadata": {},
   "outputs": [],
   "source": [
    "#merging df and df_count\n",
    "df2 = merge(df,df_count,by = 'id',all.x = T)"
   ]
  },
  {
   "cell_type": "code",
   "execution_count": 47,
   "metadata": {},
   "outputs": [],
   "source": [
    "#defining original tweets\n",
    "orig = !(startsWith(df2$extended_tweet_full_text,'@')|startsWith(df2$extended_tweet_full_text,'RT'))"
   ]
  },
  {
   "cell_type": "code",
   "execution_count": 48,
   "metadata": {},
   "outputs": [],
   "source": [
    "df2[orig & is.na(df2$reply_Freq),'reply_Freq']=0"
   ]
  },
  {
   "cell_type": "code",
   "execution_count": 49,
   "metadata": {},
   "outputs": [],
   "source": [
    "\n",
    "#df2$retweet_Freq = NA\n",
    "\n",
    "#replacing the URLs\n",
    "df2$extended_tweet_full_text = gsub('( https://t.co[^ ]*)','',df2$extended_tweet_full_text)\n"
   ]
  },
  {
   "cell_type": "code",
   "execution_count": 50,
   "metadata": {},
   "outputs": [],
   "source": [
    "rt = startsWith(df2$extended_tweet_full_text,'RT')\n",
    "\n",
    "#replacing RTs\n",
    "ortweet = gsub(\"(RT| via)((?:\\\\b\\\\W*@\\\\w+)+):\", \"\", df2$extended_tweet_full_text[rt])\n",
    "ortweet = sub('RT .*\\\\: ','',ortweet)\n",
    "\n",
    "\n",
    "ortweet = trimws(ortweet)\n",
    "\n",
    "\n",
    "for (i in which(orig)){\n",
    "    txt = df2$extended_tweet_full_text[i]\n",
    "    df2$retweet_Freq[i] = sum(txt == ortweet)\n",
    "}"
   ]
  },
  {
   "cell_type": "code",
   "execution_count": 38,
   "metadata": {},
   "outputs": [
    {
     "data": {
      "text/html": [
       "<table>\n",
       "<thead><tr><th scope=col>id</th><th scope=col>in_reply_to_status_id</th><th scope=col>extended_tweet_full_text</th><th scope=col>reply_Freq</th><th scope=col>retweet_Freq</th></tr></thead>\n",
       "<tbody>\n",
       "\t<tr><td>9.69031995086e+17                                                                                                                                                                                                                                                 </td><td>NA                                                                                                                                                                                                                                                                </td><td>Take payments on-the-go with #Clover Flex! The versatile, handheld #POS you’ve been dreaming about for your small business.                                                                                                                                       </td><td>0                                                                                                                                                                                                                                                                 </td><td>0                                                                                                                                                                                                                                                                 </td></tr>\n",
       "\t<tr><td>9.69135306439e+17                                                                                                                                                                                                                                                 </td><td>NA                                                                                                                                                                                                                                                                </td><td>Project #Ireland2040 or how a government full of anti-national extremists and traitors plans to eradicate #Ireland #Irexit #Irish #irishborder \\nhttps://t.co/IO0WhBwjoC                                                                                         </td><td>0                                                                                                                                                                                                                                                                 </td><td>0                                                                                                                                                                                                                                                                 </td></tr>\n",
       "\t<tr><td>9.69267856818e+17                                                                                                                                                                                                                                                 </td><td>NA                                                                                                                                                                                                                                                                </td><td>THE #BRITISHPEOPLE ARE NOW WAKING UP TO THE #EVILPLANS OF THE #POWERHUNGRY, #GREEDY #GLOBALIST #ELITES RUNNING THE #EU TO DESTROY #EUROPE AND INDEED THE #WORLD.\\n1 #million more #migrants planned for #resettlement in #Ireland by the #Irishgovernment. #CRAZY</td><td>0                                                                                                                                                                                                                                                                 </td><td>0                                                                                                                                                                                                                                                                 </td></tr>\n",
       "\t<tr><td>9.69287940018e+17                                                                                                                                                                                                                                                 </td><td>NA                                                                                                                                                                                                                                                                </td><td>Retro Vintage Green Beer St Patrick's day Invites\\nhttps://t.co/GhRTWdpWa0 #StPatricksDay2018 #StPatricksDay #STP #stpaddys #irishmusicparty #IrishIllustrated                                                                                                   </td><td>0                                                                                                                                                                                                                                                                 </td><td>0                                                                                                                                                                                                                                                                 </td></tr>\n",
       "\t<tr><td>9.69303890155e+17                                                                                                                                                                                                                                                 </td><td>NA                                                                                                                                                                                                                                                                </td><td>#greatmemories from @woodfordfolkfestival this year. What a way to start 2018!! I'll be sharing music around the world this year, next stop @banffcentre then #Colorado to London @pizzaexpresslive to @edfringe then #Ireland @nationalconcerthall and so muc…   </td><td>0                                                                                                                                                                                                                                                                 </td><td>0                                                                                                                                                                                                                                                                 </td></tr>\n",
       "\t<tr><td>9.69538420103e+17                                                                                                                                                                                                                                                 </td><td>NA                                                                                                                                                                                                                                                                </td><td>#pacquiao #themoneyteam #thebestever #anthonyjoshua #themaclife #weekendat #kingkong #teammcgregor #canelo #usa #danawhite #football #caneloggg #andreward #tb #irelandy #morelia                                                                                 </td><td>0                                                                                                                                                                                                                                                                 </td><td>0                                                                                                                                                                                                                                                                 </td></tr>\n",
       "</tbody>\n",
       "</table>\n"
      ],
      "text/latex": [
       "\\begin{tabular}{r|lllll}\n",
       " id & in\\_reply\\_to\\_status\\_id & extended\\_tweet\\_full\\_text & reply\\_Freq & retweet\\_Freq\\\\\n",
       "\\hline\n",
       "\t 9.69031995086e+17                                                                                                                                                                                                                                                      & NA                                                                                                                                                                                                                                                                     & Take payments on-the-go with \\#Clover Flex! The versatile, handheld \\#POS you’ve been dreaming about for your small business.                                                                                                                                        & 0                                                                                                                                                                                                                                                                      & 0                                                                                                                                                                                                                                                                     \\\\\n",
       "\t 9.69135306439e+17                                                                                                                                                                                                                                                                           & NA                                                                                                                                                                                                                                                                                          & Project \\#Ireland2040 or how a government full of anti-national extremists and traitors plans to eradicate \\#Ireland \\#Irexit \\#Irish \\#irishborder \\textbackslash{}nhttps://t.co/IO0WhBwjoC                                                                                          & 0                                                                                                                                                                                                                                                                                           & 0                                                                                                                                                                                                                                                                                          \\\\\n",
       "\t 9.69267856818e+17                                                                                                                                                                                                                                                                                               & NA                                                                                                                                                                                                                                                                                                              & THE \\#BRITISHPEOPLE ARE NOW WAKING UP TO THE \\#EVILPLANS OF THE \\#POWERHUNGRY, \\#GREEDY \\#GLOBALIST \\#ELITES RUNNING THE \\#EU TO DESTROY \\#EUROPE AND INDEED THE \\#WORLD.\\textbackslash{}n1 \\#million more \\#migrants planned for \\#resettlement in \\#Ireland by the \\#Irishgovernment. \\#CRAZY & 0                                                                                                                                                                                                                                                                                                               & 0                                                                                                                                                                                                                                                                                                              \\\\\n",
       "\t 9.69287940018e+17                                                                                                                                                                                                                                                                             & NA                                                                                                                                                                                                                                                                                            & Retro Vintage Green Beer St Patrick's day Invites\\textbackslash{}nhttps://t.co/GhRTWdpWa0 \\#StPatricksDay2018 \\#StPatricksDay \\#STP \\#stpaddys \\#irishmusicparty \\#IrishIllustrated                                                                                                    & 0                                                                                                                                                                                                                                                                                             & 0                                                                                                                                                                                                                                                                                            \\\\\n",
       "\t 9.69303890155e+17                                                                                                                                                                                                                                                        & NA                                                                                                                                                                                                                                                                       & \\#greatmemories from @woodfordfolkfestival this year. What a way to start 2018!! I'll be sharing music around the world this year, next stop @banffcentre then \\#Colorado to London @pizzaexpresslive to @edfringe then \\#Ireland @nationalconcerthall and so muc…    & 0                                                                                                                                                                                                                                                                        & 0                                                                                                                                                                                                                                                                       \\\\\n",
       "\t 9.69538420103e+17                                                                                                                                                                                                                                                                                    & NA                                                                                                                                                                                                                                                                                                   & \\#pacquiao \\#themoneyteam \\#thebestever \\#anthonyjoshua \\#themaclife \\#weekendat \\#kingkong \\#teammcgregor \\#canelo \\#usa \\#danawhite \\#football \\#caneloggg \\#andreward \\#tb \\#irelandy \\#morelia                                                                                  & 0                                                                                                                                                                                                                                                                                                    & 0                                                                                                                                                                                                                                                                                                   \\\\\n",
       "\\end{tabular}\n"
      ],
      "text/markdown": [
       "\n",
       "id | in_reply_to_status_id | extended_tweet_full_text | reply_Freq | retweet_Freq | \n",
       "|---|---|---|---|---|---|\n",
       "| 9.69031995086e+17                                                                                                                                                                                                                                                  | NA                                                                                                                                                                                                                                                                 | Take payments on-the-go with #Clover Flex! The versatile, handheld #POS you’ve been dreaming about for your small business.                                                                                                                                        | 0                                                                                                                                                                                                                                                                  | 0                                                                                                                                                                                                                                                                  | \n",
       "| 9.69135306439e+17                                                                                                                                                                                                                                                  | NA                                                                                                                                                                                                                                                                 | Project #Ireland2040 or how a government full of anti-national extremists and traitors plans to eradicate #Ireland #Irexit #Irish #irishborder \\nhttps://t.co/IO0WhBwjoC                                                                                          | 0                                                                                                                                                                                                                                                                  | 0                                                                                                                                                                                                                                                                  | \n",
       "| 9.69267856818e+17                                                                                                                                                                                                                                                  | NA                                                                                                                                                                                                                                                                 | THE #BRITISHPEOPLE ARE NOW WAKING UP TO THE #EVILPLANS OF THE #POWERHUNGRY, #GREEDY #GLOBALIST #ELITES RUNNING THE #EU TO DESTROY #EUROPE AND INDEED THE #WORLD.\\n1 #million more #migrants planned for #resettlement in #Ireland by the #Irishgovernment. #CRAZY | 0                                                                                                                                                                                                                                                                  | 0                                                                                                                                                                                                                                                                  | \n",
       "| 9.69287940018e+17                                                                                                                                                                                                                                                  | NA                                                                                                                                                                                                                                                                 | Retro Vintage Green Beer St Patrick's day Invites\\nhttps://t.co/GhRTWdpWa0 #StPatricksDay2018 #StPatricksDay #STP #stpaddys #irishmusicparty #IrishIllustrated                                                                                                    | 0                                                                                                                                                                                                                                                                  | 0                                                                                                                                                                                                                                                                  | \n",
       "| 9.69303890155e+17                                                                                                                                                                                                                                                  | NA                                                                                                                                                                                                                                                                 | #greatmemories from @woodfordfolkfestival this year. What a way to start 2018!! I'll be sharing music around the world this year, next stop @banffcentre then #Colorado to London @pizzaexpresslive to @edfringe then #Ireland @nationalconcerthall and so muc…    | 0                                                                                                                                                                                                                                                                  | 0                                                                                                                                                                                                                                                                  | \n",
       "| 9.69538420103e+17                                                                                                                                                                                                                                                  | NA                                                                                                                                                                                                                                                                 | #pacquiao #themoneyteam #thebestever #anthonyjoshua #themaclife #weekendat #kingkong #teammcgregor #canelo #usa #danawhite #football #caneloggg #andreward #tb #irelandy #morelia                                                                                  | 0                                                                                                                                                                                                                                                                  | 0                                                                                                                                                                                                                                                                  | \n",
       "\n",
       "\n"
      ],
      "text/plain": [
       "  id                in_reply_to_status_id\n",
       "1 9.69031995086e+17 NA                   \n",
       "2 9.69135306439e+17 NA                   \n",
       "3 9.69267856818e+17 NA                   \n",
       "4 9.69287940018e+17 NA                   \n",
       "5 9.69303890155e+17 NA                   \n",
       "6 9.69538420103e+17 NA                   \n",
       "  extended_tweet_full_text                                                                                                                                                                                                                                          \n",
       "1 Take payments on-the-go with #Clover Flex! The versatile, handheld #POS you’ve been dreaming about for your small business.                                                                                                                                       \n",
       "2 Project #Ireland2040 or how a government full of anti-national extremists and traitors plans to eradicate #Ireland #Irexit #Irish #irishborder \\\\nhttps://t.co/IO0WhBwjoC                                                                                         \n",
       "3 THE #BRITISHPEOPLE ARE NOW WAKING UP TO THE #EVILPLANS OF THE #POWERHUNGRY, #GREEDY #GLOBALIST #ELITES RUNNING THE #EU TO DESTROY #EUROPE AND INDEED THE #WORLD.\\\\n1 #million more #migrants planned for #resettlement in #Ireland by the #Irishgovernment. #CRAZY\n",
       "4 Retro Vintage Green Beer St Patrick's day Invites\\\\nhttps://t.co/GhRTWdpWa0 #StPatricksDay2018 #StPatricksDay #STP #stpaddys #irishmusicparty #IrishIllustrated                                                                                                   \n",
       "5 #greatmemories from @woodfordfolkfestival this year. What a way to start 2018!! I'll be sharing music around the world this year, next stop @banffcentre then #Colorado to London @pizzaexpresslive to @edfringe then #Ireland @nationalconcerthall and so muc…   \n",
       "6 #pacquiao #themoneyteam #thebestever #anthonyjoshua #themaclife #weekendat #kingkong #teammcgregor #canelo #usa #danawhite #football #caneloggg #andreward #tb #irelandy #morelia                                                                                 \n",
       "  reply_Freq retweet_Freq\n",
       "1 0          0           \n",
       "2 0          0           \n",
       "3 0          0           \n",
       "4 0          0           \n",
       "5 0          0           \n",
       "6 0          0           "
      ]
     },
     "metadata": {},
     "output_type": "display_data"
    }
   ],
   "source": [
    "head(df2)"
   ]
  },
  {
   "cell_type": "code",
   "execution_count": 51,
   "metadata": {},
   "outputs": [],
   "source": [
    "#conversion to CSVs\n",
    "write.csv(df2, 'final3.csv', row.names=F)"
   ]
  },
  {
   "cell_type": "code",
   "execution_count": null,
   "metadata": {},
   "outputs": [],
   "source": []
  }
 ],
 "metadata": {
  "kernelspec": {
   "display_name": "R",
   "language": "R",
   "name": "ir"
  },
  "language_info": {
   "codemirror_mode": "r",
   "file_extension": ".r",
   "mimetype": "text/x-r-source",
   "name": "R",
   "pygments_lexer": "r",
   "version": "3.4.3"
  }
 },
 "nbformat": 4,
 "nbformat_minor": 2
}
